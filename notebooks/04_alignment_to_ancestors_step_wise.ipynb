{
  "cells": [
    {
      "cell_type": "markdown",
      "id": "fa0432b2",
      "metadata": {
        "id": "fa0432b2"
      },
      "source": [
        "# Alignment to ancestors pipeline in individual steps\n",
        "\n",
        "We recommend performing the ancestral inference in a high-performance computing environment. Therefore, if working locally or in Colab, this notebook serves as an example for the user to visualize the effects of manipulating parameters for ancestral reconstruction on a toy dataset without need for a computing cluster. See [*03_alignment_to_ancestors.ipynb*](https:// [link text](https://)) to initiate the entire pipeline on a topiary's toy dataset with one code block.\n",
        "\n",
        "\n",
        "The alignment-to-ancestors pipeline takes an alignment, finds the best phylogenetic model, builds a maximum-likelihood (ML) gene tree, reconciles this tree with the species tree, infers ancestral protein sequences, and then determines statistical supports for the existence of each ancestor. Because these steps are computationally intensive and have different parallelization requirements, the pipeline is broken into two scripts: *alignment-to-ancestors* and *bootstrap-reconcile*.\n",
        "\n",
        "<a href=\"https://githubtocolab.com/harmslab/topiary-examples/blob/main/notebooks/04_alignment_to_ancestors_step_wise.ipynb\" target=\"_parent\"><img src=\"https://colab.research.google.com/assets/colab-badge.svg\" alt=\"Open In Colab\"/></a>\n"
      ]
    },
    {
      "cell_type": "markdown",
      "id": "OAaqz8slzfys",
      "metadata": {
        "id": "OAaqz8slzfys"
      },
      "source": [
        "## Setup\n",
        "Start by running the cells below to set up topiary and all required software."
      ]
    },
    {
      "cell_type": "code",
      "execution_count": null,
      "id": "QiIg4HyImNYe",
      "metadata": {
        "cellView": "form",
        "id": "QiIg4HyImNYe"
      },
      "outputs": [],
      "source": [
        "### THIS CELL SETS UP TOPIARY IN A GOOGLE COLAB ENVIRONMENT. \n",
        "### IF RUNNING THIS NOTEBOOK LOCALLY, IT MAY BE SAFELY DELETED.\n",
        "\n",
        "#@title Install software\n",
        "\n",
        "#@markdown #### Installation requires two steps.\n",
        "\n",
        "#@markdown 1. Install the software by pressing the _Play_ button on the left.\n",
        "#@markdown Please be patient. This will take several minutes. <font color='teal'>\n",
        "#@markdown After the  installation is complete, the kernel will reboot \n",
        "#@markdown and Colab will complain that the session crashed. This is normal.</font>\n",
        "#@markdown <br/>\n",
        "\n",
        "install_raxml = True    #@param {type:\"boolean\"}\n",
        "install_generax = True  #@param {type:\"boolean\"}\n",
        "\n",
        "#@markdown 2. After this cell runs, run the \"Initialize environment\" cell that follows.\n",
        "\n",
        "try:\n",
        "    import google.colab\n",
        "    RUNNING_IN_COLAB = True\n",
        "except ImportError:\n",
        "    RUNNING_IN_COLAB = False\n",
        "except Exception as e: \n",
        "    err = \"Could not figure out if runnning in a colab notebook\\n\"\n",
        "    raise Exception(err) from e\n",
        "\n",
        "if RUNNING_IN_COLAB:\n",
        "\n",
        "    import os\n",
        "    os.chdir(\"/content/\")\n",
        "\n",
        "    import urllib.request\n",
        "    urllib.request.urlretrieve(\"https://raw.githubusercontent.com/harmslab/topiary-examples/main/notebooks/colab_installer.py\",\n",
        "                              \"colab_installer.py\")\n",
        "\n",
        "    import colab_installer\n",
        "    colab_installer.install_topiary(install_raxml=install_raxml,\n",
        "                                    install_generax=install_generax)"
      ]
    },
    {
      "cell_type": "code",
      "execution_count": null,
      "id": "V4HUmguVhVCj",
      "metadata": {
        "cellView": "form",
        "id": "V4HUmguVhVCj"
      },
      "outputs": [],
      "source": [
        "### IF RUNNING LOCALLY, ACTIVATE THE TOPIARY ENVIRONMENT IN CONDA\n",
        "### AND RE-OPEN THIS NOTEBOOK.\n",
        "\n",
        "import topiary\n",
        "import numpy as np\n",
        "import pandas as pd \n",
        "\n",
        "### EVERYTHING AFTER THIS LINE IS IS USED TO SET UP TOPIARY IN A GOOGLE\n",
        "### COLAB ENVIRONMENT. IF RUNNING THIS NOTEBOOK LOCALLY, THE LINES BELOW\n",
        "### IN THIS CELL MAY BE SAFELY DELETED. \n",
        "\n",
        "#@title Initialize environment\n",
        "\n",
        "#@markdown  Run this cell to initialize the environment after installation.\n",
        "#@markdown (This cell can also be run if the kernel dies during a calculation,\n",
        "#@markdown allowing you to reload modules without having to\n",
        "#@markdown reinstall). \n",
        "\n",
        "#@markdown We recommend setting up a working directory on your google drive. This is a \n",
        "#@markdown convenient way to pass files to topiary and will allow you to save\n",
        "#@markdown your work. For example, if you type `topiary_work` into the form\n",
        "#@markdown field below, topiary will save all of its calculations in the \n",
        "#@markdown `topiary_work` directory in MyDrive (i.e. the top directory at\n",
        "#@markdown https://drive.google.com). This script will create the directory if \n",
        "#@markdown it does not already exist. If the directory already exists, any files\n",
        "#@markdown that are already in that directory will be available to topiary. You could, \n",
        "#@markdown for example, put a file called `seed.csv` in `topiary_work` and then\n",
        "#@markdown access it as \"seed.csv\" in all cells below.\n",
        "\n",
        "#@markdown Note: Google may prompt you for permission to access the drive. \n",
        "#@markdown To work in a temporary colab environment, leave this blank. \n",
        "\n",
        "# Select a working directory on google drive\n",
        "google_drive_directory = \"\" #@param {type:\"string\"}\n",
        "\n",
        "try:\n",
        "    import google.colab\n",
        "    RUNNING_IN_COLAB = True\n",
        "except ImportError:\n",
        "    RUNNING_IN_COLAB = False\n",
        "except Exception as e: \n",
        "    err = \"Could not figure out if runnning in a colab notebook\\n\"\n",
        "    raise Exception(err) from e\n",
        "\n",
        "if RUNNING_IN_COLAB:\n",
        "\n",
        "    import os\n",
        "    os.chdir(\"/content/\")\n",
        "\n",
        "    topiary._in_notebook = \"colab\"\n",
        "    import colab_installer\n",
        "    colab_installer.initialize_environment()\n",
        "    colab_installer.mount_google_drive(google_drive_directory)"
      ]
    },
    {
      "cell_type": "markdown",
      "source": [
        "--------\n",
        "\n",
        "# *Alignment-to-ancestors*\n",
        "\n",
        "--------"
      ],
      "metadata": {
        "id": "I3ckDtfBWdIY"
      },
      "id": "I3ckDtfBWdIY"
    },
    {
      "cell_type": "markdown",
      "id": "n74eN4wvxMz4",
      "metadata": {
        "id": "n74eN4wvxMz4"
      },
      "source": [
        "# 00. Infer the evolutionary model\n",
        "\n",
        "The first step in a maximum likelihood phylogenetic analysis is determining the maximum likelihood model of sequence evolution. This includes the matrix for amino acid substitution (i.e., LG, JTT, WAG, etc.), the stationary frequencies for that model, rate variation parameters (𝚪 distribution, rate categories, etc.), and the proportion of invariant sites. Topiary uses a conventional method to find the best model (Abascal F, 2005). It uses RAxML-NG to generate a maximum parsimony tree from the alignment. It then optimizes branch lengths and other parameters using all 360 combinations of these model parameters implemented in the computational library that underlies RAxML-NG and GeneRax. Finally, it ranks these models based on a corrected Akaike Information Criterion, which penalizes models with excess parameters to prevent overfitting.\n",
        "\n",
        "Although this protocol is done automatically, topiary returns a variety of statistics including AIC, AICc, and BIC to help users who want more control over model selection. Via the API, users can also specify a custom input tree or a subset of the models to test. (Note: as of the current version, topiary excludes the LG4M and LG4X models, as these cause GeneRax to crash during gene-species tree reconciliation).\n",
        "\n",
        "\n",
        "This cell can be run without updating any parameters. For a full description of the meanings of all parameters, see the [topiary documentation](https://topiary-asr.readthedocs.io/en/latest/topiary.pipeline.html#module-topiary.pipeline.alignment_to_ancestors)."
      ]
    },
    {
      "cell_type": "code",
      "execution_count": null,
      "id": "85b85b3a",
      "metadata": {
        "id": "85b85b3a"
      },
      "outputs": [],
      "source": [
        "# 00. Find the best phylogenetic model\n",
        "\n",
        "# This cell takes the alignment and finds the best evolutionary model\n",
        "# to explain relationships of sequences in the alignment. The output\n",
        "# from this cell shows the comparison of all 360 combinations of\n",
        "# defined model parameters conducted to find the best model. \n",
        "\n",
        "# Colab users: If you did not set a working directory on your Google \n",
        "# Drive to save your results to, remove the \"../../../ from the \n",
        "# alignment_dataframe path.\n",
        "\n",
        "alignment_dataframe = \"../../../software/topiary/tests/data/small-phylo/dataframe.csv\"\n",
        "\n",
        "# Local users: Access the small-phylo alignment dataframe by commenting out the \n",
        "# path above and instead use the following path:\n",
        "\n",
        "# alignment_dataframe = pd.read_csv(\"../data/dataframe.csv\")\n",
        "\n",
        "alignment_df = pd.read_csv(alignment_dataframe)\n",
        "\n",
        "topiary.find_best_model(df=alignment_df,\n",
        "                        calc_dir=\"00_find-model\",                        \n",
        "                        starting_tree=None,\n",
        "                        #seed=12345,\n",
        "                        model_matrices=[\"cpREV\",\"Dayhoff\",\"DCMut\",\"DEN\",\"Blosum62\",\"FLU\",\"HIVb\",\"HIVw\",\"JTT\",\"JTT-DCMut\",\"LG\",\"mtART\",\"mtMAM\",\"mtREV\",\"mtZOA\",\"PMB\",\"rtREV\",\"stmtREV\",\"VT\",\"WAG\"],\n",
        "                        model_rates=[\"\",\"G8\"],\n",
        "                        model_freqs=[\"\",\"FC\",\"FO\"] ,\n",
        "                        model_invariant=[\"\",\"IC\",\"IO\"],\n",
        "                        num_threads=-1,\n",
        "                        restart=False,\n",
        "                        overwrite=False)\n"
      ]
    },
    {
      "cell_type": "markdown",
      "id": "k5_XZcDfyEjn",
      "metadata": {
        "id": "k5_XZcDfyEjn"
      },
      "source": [
        "# 01. Build a maximum likelihood gene tree\n",
        "\n",
        "Topiary next infers an ML gene tree using the inferred phylogenetic model with the default RAxML-NG settings for the “--search” protocol. This starts the inference from 10 random trees and 10 different parsimony trees. It then optimizes the tree topology using an SPR subtree cutoff of 1, with an automatically selected fast versus slow SPR radius. Branch lengths are optimized using the NR-FAST algorithm. The tree with the highest likelihood is selected and used for downstream analyses. Advanced users have full access to all RAxML-NG options XXX.\n",
        "\n",
        "This cell builds an ML tree using the best model found in the previous step."
      ]
    },
    {
      "cell_type": "code",
      "execution_count": null,
      "id": "i3ayAUxOyS8l",
      "metadata": {
        "id": "i3ayAUxOyS8l"
      },
      "outputs": [],
      "source": [
        "# 01. Generate the maximum likelihood tree\n",
        "\n",
        "topiary.generate_ml_tree(prev_calculation=\"00_find-model\",\n",
        "                        calc_dir=\"01_ml-tree\",\n",
        "                        num_threads=-1,\n",
        "                        bootstrap=False,\n",
        "                        restart=False,\n",
        "                        overwrite=False)\n"
      ]
    },
    {
      "cell_type": "markdown",
      "id": "W5K1t6tDyu1V",
      "metadata": {
        "id": "W5K1t6tDyu1V"
      },
      "source": [
        "# 02. Reconcile gene and species trees\n",
        "\n",
        "The next step in the pipeline is to reconcile the gene tree with the species tree. This automatically roots the tree and has been shown to improve the quality of reconstructed sequences (Groussin M, 2015). For this purpose, we use GeneRax, a new high-performance program for reconciling gene and species trees. Unlike other, heuristic, methods, GeneRax uses an explicit likelihood framework (Morel B, 2020). The final tree is the maximum likelihood estimate for an evolutionary model that includes both sequence evolution (i.e., LG) and evolutionary events (speciation, duplication, and loss (and lateral gene transfer if specified).\n",
        "\n",
        "To do this, topiary uses the ML evolutionary model and ML gene tree inferred previously as inputs to GeneRax. For the rooted species tree, topiary automatically downloads the most recent synthetic tree from the Open Tree of Life (OTL) database (Rees J, 2017; Mctavish EJ, 2021). (Previous steps in the pipeline ensure that all sequences that have made it to this step come from species that are present in the OTL database). Any polytomies in this tree are resolved arbitrarily prior to the reconciliation inference. Topiary runs GeneRax with the default parameters and the UndatedDL model (Morel B, 2020). The UndatedDL model accounts for duplication and loss events. Topiary users can select the other implemented model— UndatedDTL, which allows lateral transfer if they anticipate lateral gene transfer occurs for their gene of interest. \n",
        "\n",
        "The resulting tree is a maximum likelihood reconciled gene-species tree with optimized branch lengths and nodes labeled with inferred evolutionary events (speciation, duplication, or transfer). GeneRax returns a variety of other outputs that are made accessible to topiary users, but only the reconciled tree is used further in the pipeline.\n",
        "\n",
        "This cell uses GeneRax software to improve the likelihood of the final\n",
        "topology of the gene tree by reconciling the ML gene with the species\n",
        "tree. GeneRax will only make changes to the ML gene tree if the\n",
        "current topology requires a complicated series of evolutionary steps\n",
        "relating sequences that could be more easily explained if the\n",
        "topology matched the species tree.\n",
        "\n",
        "If reconstructing microbe-specific ancestral proteins, reconciling\n",
        "your gene tree with the species tree might not improve the confidence\n",
        "in the final tree. Topiary will not reconcile a gene tree to the species tree if there are only microbial genes present unless the user sets `--force_reconcile`. In this case, the user may also opt to allow the probability of horizontal and/or lateral gene transfer between species to play a role in building the reconciled tree. To do this, use the flags `--horizontal_gene_transfer` and/or `--UndatedDTL`.\n",
        "\n",
        "The user can also use `--force_no_reconcile` if they do not want to reconcile the ML gene tree with the species tree. Note that when allowing reconciliation, ancestors and statistical supports will be built for both the ML gene tree and the species-reconciled tree (see the [topiary documentation](https://topiary-asr.readthedocs.io/en/latest/protocol.html#interpret-the-results)).\n",
        "\n",
        "This cell can be run without updating any parameters. For a full description of the meanings of all parameters, see the [topiary documentation](https://topiary-asr.readthedocs.io/en/latest/topiary.pipeline.html#module-topiary.pipeline.alignment_to_ancestors)."
      ]
    },
    {
      "cell_type": "code",
      "execution_count": null,
      "id": "BCLnm43_zGiE",
      "metadata": {
        "id": "BCLnm43_zGiE"
      },
      "outputs": [],
      "source": [
        "# 02. Reconcile the ML gene tree with species tree\n",
        "\n",
        "topiary.reconcile(prev_calculation=\"01_ml-tree\",\n",
        "                  calc_dir=\"02_reconciliation\",\n",
        "                  species_tree=None,\n",
        "                  horizontal_transfer=False,\n",
        "                  num_threads=1, \n",
        "                  bootstrap=False,\n",
        "                  restart=False,\n",
        "                  overwrite=False)\n"
      ]
    },
    {
      "cell_type": "markdown",
      "id": "MwdIMR4dzZwc",
      "metadata": {
        "id": "MwdIMR4dzZwc"
      },
      "source": [
        "# 03. Reconstruct ancestors\n",
        "\n",
        "The next step is to infer sequences of ancestral nodes on the reconciled gene-species tree. For this, we use RAxML-NG, which implements a standard marginal ancestral reconstruction method (Yang Z, 1995). (This differs from previous versions of RAxML, which used a non- standard reconstruction method that was not comparable to other approaches). RAxML-NG finds the amino acid at each site in each ancestor that maximizes the likelihood of observing the sequence alignment given the tree, branch lengths, and phylogenetic model. This returns a matrix of posterior probabilities for each amino acid at each site in the alignment for each ancestral node. Topiary extracts the sequence of the maximum likelihood ancestor, as well as the so-called altAll version of the ancestor that incorporates alternate reconstructed amino acids at ambiguous positions. It uses a default cutoff of 0.25 to identify ambiguous sites (Eick GN, 2016); this can be set by the user.\n",
        "\n",
        "The evolutionary models used by RAxML-NG do not explicitly treat gaps; therefore, the first draft of the reconstructed ancestor will be ungapped. Topiary assigns gaps by treating them as characters during ancestral character reconstruction (ACR). For this purpose, topiary uses the DOWNPASS (Maddison DR, 2000) algorithm as implemented by the PastML package (Ishikawa SA, 2019). The final output for this step consists of the gapped sequences of the maximum likelihood and altAll ancestors for each node. These have associated statistical supports: posterior probabilities for each reconstructed amino acid and support for gaps. Topiary also puts out a variety of summary graphs to help select high quality sequences.\n"
      ]
    },
    {
      "cell_type": "code",
      "execution_count": null,
      "id": "b5k6-haGzu61",
      "metadata": {
        "id": "b5k6-haGzu61"
      },
      "outputs": [],
      "source": [
        "# 03. Infer ancestral proteins.\n",
        "\n",
        "topiary.generate_ancestors(prev_calculation=\"02_reconciliation\",\n",
        "                          calc_dir=\"03_ancestors\",\n",
        "                          num_threads=1,\n",
        "                          alt_cutoff=0.25,\n",
        "                          restart=False,\n",
        "                          overwrite=False)\n"
      ]
    },
    {
      "cell_type": "markdown",
      "id": "GwJSPikPdww7",
      "metadata": {
        "id": "GwJSPikPdww7"
      },
      "source": [
        "# Assess posterior probabilities for individual ancestral sequences\n",
        "\n",
        "It is useful to visualize ancestral sequence posterior probabilities (PP) in detail at this stage (see output from the cell above). In particular, it is important to check ancestral sequences with low average posterior probability labels in the summary tree. Regions where the ML and altAll constructions have similar posterior probability represent amino acids in the protein sequence that are highly ambiguous given the multiple sequence alignment. Generally, we recommend moving forward with ancestors with high (>0.85) PP. However, functionally competent ancestors have been resurrected from reconstructions with an average PP > 0.75.\n",
        "\n",
        "Assess if there is enough statistical support for the reconstructed amino acid sequence for the lowly supported ancestors. If there is not enough support, it may be beneficial to add more sequences to the multiple sequence alignment that would provide additional sequence signal for this particular ancestor."
      ]
    },
    {
      "cell_type": "code",
      "execution_count": null,
      "id": "RbI0catTgdaJ",
      "metadata": {
        "cellView": "form",
        "id": "RbI0catTgdaJ"
      },
      "outputs": [],
      "source": [
        "#@title (Recommended) View amino acid-level statistical support for ancestral sequences  \n",
        "\n",
        "#@markdown The ancestor-data.csv file\n",
        "#@markdown shows posterior probability values calculated for the\n",
        "#@markdown maximum likelihood and next most likely amino acid\n",
        "#@markdown (or alternate state) at each site along the reconstructed\n",
        "#@markdown ancestral sequences. The location of the file is shown\n",
        "#@markdown below and its contents can be viewed by running the cell.\n",
        "\n",
        "ancestor_data = \"03_ancestors/output/reconciled-tree_ancestors/ancestor-data.csv\" #@param {type:\"string\"}\n",
        "\n",
        "df = pd.read_csv(ancestor_data)\n",
        "df"
      ]
    },
    {
      "cell_type": "markdown",
      "source": [
        "--------\n",
        "\n",
        "# *Bootstrap-reconcile*\n",
        "\n",
        "--------"
      ],
      "metadata": {
        "id": "1Xgt7eRsWMDP"
      },
      "id": "1Xgt7eRsWMDP"
    },
    {
      "cell_type": "markdown",
      "id": "34iCsijWz9Qw",
      "metadata": {
        "id": "34iCsijWz9Qw"
      },
      "source": [
        "# 04. Branch supports\n",
        "\n",
        "To determine branch supports, topiary uses non-parametric bootstrapping (Felsenstein J, 1985). Briefly, RAxML-NG generates pseudoreplicate alignments by sampling columns, with replacement, from the input alignment. RAxML-NG then infers an evolutionary tree for each of these alignments. Topiary generates up to 1,000 bootstrap pseudoreplicates, using RAxML- NG’s automatic Extended Majority Rules (autoMRE) method with a cutoff of 0.03 to determine the exact number. The output from RAxML-NG is a collection of pseudoreplicate alignments and pseudoreplicate gene trees. Because we are reconstructing ancestors on the reconciled tree, we pass each pseudoreplicate alignment and gene tree into GeneRax for gene-species tree reconciliation, yielding a final collection of pseudoreplicate reconciled trees. Topiary then uses RAxML-NG to map these pseudoreplicate trees onto the ML reconciled tree as branch supports. Topiary also assesses convergence for the branch support estimate using the `--bsconverge` option.\n",
        "\n",
        "This cell first reconciles each bootstrap pseudoreplicate ML gene tree.\n",
        "It then calculates branch support values from the frequencies of seeing\n",
        "the same ancestral nodes found in the species-reconciled ML gene tree.\n"
      ]
    },
    {
      "cell_type": "code",
      "execution_count": null,
      "id": "SybysyH90KRG",
      "metadata": {
        "id": "SybysyH90KRG"
      },
      "outputs": [],
      "source": [
        "# 04. Determine statistical supports for the existence of each reconstructed ancestor\n",
        "\n",
        "topiary.generate_bootstraps(prev_calculation=\"03_ancestors\",\n",
        "                            calc_dir=\"04_bootstraps\",\n",
        "                            num_threads=-1,\n",
        "                            restart=False,\n",
        "                            overwrite=False)\n"
      ]
    },
    {
      "cell_type": "markdown",
      "source": [
        "# 05. Summary reports\n",
        "\n",
        "Execute this cell to generate an interactive html report summarizing\n",
        "the results of your ancestral sequence reconstruction."
      ],
      "metadata": {
        "id": "wKZ_YTqxOVWe"
      },
      "id": "wKZ_YTqxOVWe"
    },
    {
      "cell_type": "code",
      "source": [
        "# 05. Create an html report for the calculation\n",
        "\n",
        "topiary.tree_report(ancestor_directory=\"03_ancestors\",\n",
        "                    tree_directory=\"04_bootstraps\",\n",
        "                    output_directory=\"05_reports\")"
      ],
      "metadata": {
        "id": "xKzjc72lppSF"
      },
      "id": "xKzjc72lppSF",
      "execution_count": null,
      "outputs": []
    },
    {
      "cell_type": "markdown",
      "id": "j6y-YvccHbCX",
      "metadata": {
        "id": "j6y-YvccHbCX"
      },
      "source": [
        "# Interpret the results\n",
        "\n",
        "See the [topiary documentation](https://topiary-asr.readthedocs.io/en/latest/protocol.html#interpret-the-results) for a detailed description of how to determine if a particular ancestral sequence has reasonable statistical support to have existed. Such ancestors can be resurrected and functional characterized."
      ]
    }
  ],
  "metadata": {
    "colab": {
      "provenance": []
    },
    "kernelspec": {
      "display_name": "Python 3 (ipykernel)",
      "language": "python",
      "name": "python3"
    },
    "language_info": {
      "codemirror_mode": {
        "name": "ipython",
        "version": 3
      },
      "file_extension": ".py",
      "mimetype": "text/x-python",
      "name": "python",
      "nbconvert_exporter": "python",
      "pygments_lexer": "ipython3",
      "version": "3.10.8"
    }
  },
  "nbformat": 4,
  "nbformat_minor": 5
}