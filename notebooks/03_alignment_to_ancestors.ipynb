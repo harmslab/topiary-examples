{
  "cells": [
    {
      "cell_type": "markdown",
      "metadata": {
        "id": "qakjt1PrwzUf"
      },
      "source": [
        "# Alignment to ancestors\n",
        "\n",
        "We recommend performing the ancestral inference in a high-performance computing environment. Therefore, if working locally or in Colab, this notebook serves as an example for the user to visualize the effects of manipulating parameters for ancestral reconstruction on topiary's toy dataset without need for a computing cluster.\n",
        "\n",
        "Because of different parallelization requirements, the ancestral inference step uses two scripts run in sequence (*alignment-to-ancestors* and *bootstrap-reconcile*). The first script infers the evolutionary model, builds the maximum likelkihood (ML) gene tree, reconciles the ML gene tree with the species tree, reconstructs ancestors, and generates bootstrap pseudoreplicates of the ML tree for statistical analysis in the bootstrap-reconcile script. The results produced from each of these processes in *alignment-to-ancestors* can be visualized as summary tree PDF files written out at each step. Reconstructing ancestors should take about a day for a reasonable alignment (1,000 columns, 500 sequences) running on a reasonable compute node (30 cores). \n",
        "\n",
        "The *bootstrap-reconcile* script reconciles each pseudoreplicate gene tree to the species tree and constructs the final branch supports. Bootstrap sampling the gene-species reconciliation is computationally intensive but can be readily parallelized. For a full alignemnt, it will likely take approximately a week spread across several cores.\n",
        "\n",
        "In this notebook, the two scripts are initiated sequentially with a single block of code.\n",
        "\n",
        "<a href=\"https://githubtocolab.com/harmslab/topiary-examples/blob/main/notebooks/03_alignment_to_ancestors.ipynb\" target=\"_parent\"><img src=\"https://colab.research.google.com/assets/colab-badge.svg\" alt=\"Open In Colab\"/></a>\n"
      ]
    },
    {
      "cell_type": "markdown",
      "metadata": {
        "id": "OHk84HFrHLU8"
      },
      "source": [
        "## Setup\n",
        "Start by running the cells below to set up topiary and all required software."
      ]
    },
    {
      "cell_type": "code",
      "execution_count": null,
      "metadata": {
        "cellView": "form",
        "id": "ukWkH1MRBG6N"
      },
      "outputs": [],
      "source": [
        "### THIS CELL SETS UP TOPIARY IN A GOOGLE COLAB ENVIRONMENT. \n",
        "### IF RUNNING THIS NOTEBOOK LOCALLY, IT MAY BE SAFELY DELETED.\n",
        "\n",
        "#@title Install software\n",
        "\n",
        "#@markdown #### Installation requires two steps.\n",
        "\n",
        "#@markdown 1. Install the software by pressing the _Play_ button on the left.\n",
        "#@markdown Please be patient. This will take several minutes. <font color='teal'>\n",
        "#@markdown After the  installation is complete, the kernel will reboot \n",
        "#@markdown and Colab will complain that the session crashed. This is normal.</font>\n",
        "#@markdown <br/><br/>(If you wish to install raxml or generax, select the check boxes below. \n",
        "#@markdown These packages are only required for running the\n",
        "#@markdown alignment-to-ancestors pipeline. Note: you can select\n",
        "#@markdown the checkboxes and re-run this cell after doing the initial \n",
        "#@markdown installation.)\n",
        "\n",
        "install_raxml = True    #@param {type:\"boolean\"}\n",
        "install_generax = True  #@param {type:\"boolean\"}\n",
        "\n",
        "#@markdown 2. After this cell runs, run the \"Initialize environment\" cell that follows.\n",
        "\n",
        "try:\n",
        "    import google.colab\n",
        "    RUNNING_IN_COLAB = True\n",
        "except ImportError:\n",
        "    RUNNING_IN_COLAB = False\n",
        "except Exception as e: \n",
        "    err = \"Could not figure out if runnning in a colab notebook\\n\"\n",
        "    raise Exception(err) from e\n",
        "\n",
        "if RUNNING_IN_COLAB:\n",
        "\n",
        "    import os\n",
        "    os.chdir(\"/content/\")\n",
        "\n",
        "    import urllib.request\n",
        "    urllib.request.urlretrieve(\"https://raw.githubusercontent.com/harmslab/topiary-examples/main/notebooks/colab_installer.py\",\n",
        "                              \"colab_installer.py\")\n",
        "\n",
        "    import colab_installer\n",
        "    colab_installer.install_topiary(install_raxml=install_raxml,\n",
        "                                    install_generax=install_generax)"
      ]
    },
    {
      "cell_type": "code",
      "execution_count": null,
      "metadata": {
        "cellView": "form",
        "id": "5L0px3qphFco"
      },
      "outputs": [],
      "source": [
        "### IF RUNNING LOCALLY, ACTIVATE THE TOPIARY ENVIRONMENT IN CONDA\n",
        "### AND RE-OPEN THIS NOTEBOOK.\n",
        "\n",
        "import topiary\n",
        "import numpy as np\n",
        "import pandas as pd \n",
        "\n",
        "### EVERYTHING AFTER THIS LINE IS IS USED TO SET UP TOPIARY IN A GOOGLE\n",
        "### COLAB ENVIRONMENT. IF RUNNING THIS NOTEBOOK LOCALLY, THE LINES BELOW\n",
        "### IN THIS CELL MAY BE SAFELY DELETED. \n",
        "\n",
        "#@title Initialize environment\n",
        "\n",
        "#@markdown  Run this cell to initialize the environment after installation.\n",
        "#@markdown (This cell can also be run if the kernel dies during a calculation,\n",
        "#@markdown allowing you to reload modules without having to\n",
        "#@markdown reinstall). \n",
        "\n",
        "#@markdown We recommend setting up a working directory on your google drive. This is a \n",
        "#@markdown convenient way to pass files to topiary and will allow you to save\n",
        "#@markdown your work. For example, if you type `topiary_work` into the form\n",
        "#@markdown field below, topiary will save all of its calculations in the \n",
        "#@markdown `topiary_work` directory in MyDrive (i.e. the top directory at\n",
        "#@markdown https://drive.google.com). This script will create the directory if \n",
        "#@markdown it does not already exist. If the directory already exists, any files\n",
        "#@markdown that are already in that directory will be available to topiary. You could, \n",
        "#@markdown for example, put a file called `seed.csv` in `topiary_work` and then\n",
        "#@markdown access it as \"seed.csv\" in all cells below.\n",
        "#@markdown <br/><br/>\n",
        "#@markdown Note: Google may prompt you for permission to access the drive. \n",
        "#@markdown To work in a temporary colab environment, leave this blank. \n",
        "\n",
        "# Select a working directory on google drive\n",
        "google_drive_directory = \"\" #@param {type:\"string\"}\n",
        "\n",
        "try:\n",
        "    import google.colab\n",
        "    RUNNING_IN_COLAB = True\n",
        "except ImportError:\n",
        "    RUNNING_IN_COLAB = False\n",
        "except Exception as e: \n",
        "    err = \"Could not figure out if runnning in a colab notebook\\n\"\n",
        "    raise Exception(err) from e\n",
        "\n",
        "if RUNNING_IN_COLAB:\n",
        "\n",
        "    import os\n",
        "    os.chdir(\"/content/\")\n",
        "\n",
        "    topiary._in_notebook = \"colab\"\n",
        "    import colab_installer\n",
        "    colab_installer.initialize_environment()\n",
        "    colab_installer.mount_google_drive(google_drive_directory)"
      ]
    },
    {
      "cell_type": "markdown",
      "metadata": {
        "id": "54yTM52VBjdW"
      },
      "source": [
        "# Alignment-to-ancestors and bootstrap-reconcile\n",
        "\n",
        "This pipeline takes an alignment, finds the best phylogenetic model\n",
        "to explain relationships of sequences in the alignment, builds a\n",
        "maximum likelihood tree, reconciles this tree with the species tree,\n",
        "and then infers ancestral proteins.\n",
        "\n",
        "If reconstructing microbe-specific ancestral proteins, reconciling\n",
        "your gene tree with the species tree might not improve the confidence\n",
        "in the final tree. Topiary will not reconcile a gene tree to the species tree if there are only microbial genes present unless the user sets `--force_reconcile`. In this case, the user may also opt to allow the probability of horizontal and/or lateral gene transfer between species to play a role in building the reconciled tree. To do this, use the flags `--horizontal_gene_transfer` and/or `--UndatedDTL`.\n",
        "\n",
        "The user can also use `--force_no_reconcile` if they do not want to reconcile the ML gene tree with the species tree. Note that when allowing reconciliation, ancestors and statistical supports will be built for both the ML gene tree and the species-reconciled tree (see the [topiary documentation](https://topiary-asr.readthedocs.io/en/latest/protocol.html#interpret-the-results)).\n",
        "\n",
        "This cell can be run without updating any parameters. For a full description of the meanings of all parameters, see the [topiary documentation](https://topiary-asr.readthedocs.io/en/latest/topiary.pipeline.html#module-topiary.pipeline.alignment_to_ancestors).\n"
      ]
    },
    {
      "cell_type": "code",
      "execution_count": null,
      "metadata": {
        "cellView": "form",
        "id": "Yj5dqOj2GRVt"
      },
      "outputs": [],
      "source": [
        "#@title Run the alignment_to_ancestors pipeline.\n",
        "\n",
        "#@markdown Colab users: If you did not designate a Google Drive folder to save\n",
        "#@markdown your results to, remove \"../../../\" from the file path to the \n",
        "#@markdown example alignment_dataframe.\n",
        "\n",
        "alignment_dataframe = \"../../../software/topiary/tests/data/tiny-phylo/00_find-best-model/input/dataframe.csv\" #@param {type:\"string\"} #**\n",
        "\n",
        "# Local users: Access the small-phylo alignment dataframe by commenting out the \n",
        "# path above and instead use the following path:\n",
        "\n",
        "# alignment_dataframe = pd.read_csv(\"../data/dataframe.csv\")\n",
        "\n",
        "alignment_df = pd.read_csv(aligment_dataframe)\n",
        "\n",
        "out_dir = \"example_ali-to-anc\"      #@param {type:\"raw\"}\n",
        "starting_tree = None                #@param {type:\"raw\"}\n",
        "no_bootstrap = False                #@param {type:\"boolean\"}\n",
        "no_reconcile = False                #@param {type:\"boolean\"}\n",
        "horizontal_transfer = False         #@param {type:\"boolean\"}\n",
        "alt_cutoff = 0.25                   #@param {type:\"number\"}\n",
        "model_matrices = [\"cpREV\",\"Dayhoff\",\"DCMut\",\"DEN\",\"Blosum62\",\"FLU\",\"HIVb\",\"HIVw\",\"JTT\",\"JTT-DCMut\",\"LG\",\"mtART\",\"mtMAM\",\"mtREV\",\"mtZOA\",\"PMB\",\"rtREV\",\"stmtREV\",\"VT\",\"WAG\"] #@param {type: \"string\"}\n",
        "model_rates = [\"\",\"G8\"]             #@param {type:\"string\"}\n",
        "model_freqs = [\"\",\"FC\",\"FO\"]        #@param {type:\"string\"}\n",
        "model_invariant = [\"\",\"IC\",\"IO\"]    #@param {type:\"string\"}\n",
        "num_threads = -1                    #@param [\"-1\"] {type:\"raw\"}\n",
        "restart = False                     #@param {type:\"boolean\"}\n",
        "overwrite = False                   #@param {type:\"boolean\"}\n",
        "\n",
        "topiary.alignment_to_ancestors(df=alignment_df,\n",
        "                      out_dir=out_dir,\n",
        "                      starting_tree=starting_tree,\n",
        "                      no_bootstrap=no_bootstrap,\n",
        "                      no_reconcile=no_reconcile,\n",
        "                      alt_cutoff=alt_cutoff,\n",
        "                      model_matrices=model_matrices,\n",
        "                      model_rates=model_rates,\n",
        "                      model_freqs=model_freqs,\n",
        "                      model_invariant=model_invariant,\n",
        "                      num_threads=num_threads,\n",
        "                      restart=restart,\n",
        "                      overwrite=overwrite)\n"
      ]
    },
    {
      "cell_type": "markdown",
      "metadata": {
        "id": "kfqb33yYEra_"
      },
      "source": [
        "# Interpret the results\n",
        "\n",
        "See the [topiary documentation](https://topiary-asr.readthedocs.io/en/latest/protocol.html#interpret-the-results) for a detailed description of how to determine if a particular ancestral sequence has reasonable statistical support to have existed. Such ancestors can be resurrected and functional characterized."
      ]
    }
  ],
  "metadata": {
    "colab": {
      "provenance": []
    },
    "kernelspec": {
      "display_name": "Python 3 (ipykernel)",
      "language": "python",
      "name": "python3"
    },
    "language_info": {
      "codemirror_mode": {
        "name": "ipython",
        "version": 3
      },
      "file_extension": ".py",
      "mimetype": "text/x-python",
      "name": "python",
      "nbconvert_exporter": "python",
      "pygments_lexer": "ipython3",
      "version": "3.10.8"
    }
  },
  "nbformat": 4,
  "nbformat_minor": 0
}